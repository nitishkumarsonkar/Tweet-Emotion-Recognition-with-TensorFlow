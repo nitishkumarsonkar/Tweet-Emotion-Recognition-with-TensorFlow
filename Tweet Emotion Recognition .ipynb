{
 "cells": [
  {
   "cell_type": "markdown",
   "id": "5362c529",
   "metadata": {},
   "source": [
    "## Tweet Emotion Recoginition: NLP using TensorFlow"
   ]
  },
  {
   "cell_type": "code",
   "execution_count": 1,
   "id": "6e0890ea",
   "metadata": {},
   "outputs": [],
   "source": [
    "import tensorflow as tf\n",
    "import numpy as np\n",
    "import matplotlib.pyplot as plt\n",
    "import nlp \n",
    "import random"
   ]
  },
  {
   "cell_type": "code",
   "execution_count": 2,
   "id": "b8601c83",
   "metadata": {},
   "outputs": [],
   "source": [
    "def show_history(h):\n",
    "    epochs_trained =len(h.history['loss'])\n",
    "    plt.figure(figsize=(16,6))\n",
    "    \n",
    "    plt.subplot(1,2,1)\n",
    "    plt.plot(range(0, epochs_trained),h.history.get('Accuracy'),label='Training')\n",
    "    plt.plot(range(0, epochs_trained),h.history.get('val_Accuracy'), label='Validation')\n",
    "    plt.ylim([0.,1.])\n",
    "    plt.xlabel('Epochs')\n",
    "    plt.ylabel('Accuracy')\n",
    "    plt.legend()\n",
    "    \n",
    "    plt.subplot(1,2,2)\n",
    "    plt.plot(range(0,epochs_trained),h.history.get('loss'),label='Training')\n",
    "    plt.plot(range(0,epochs_trained),h.history.get('val_loss'), label='Valdation')\n",
    "    #plt.ylim([0.,1.])\n",
    "    plt.xlabel('Epochs')\n",
    "    plt.ylabel('Accuracy')\n",
    "    plt.show()"
   ]
  },
  {
   "cell_type": "code",
   "execution_count": 3,
   "id": "4a443624",
   "metadata": {},
   "outputs": [],
   "source": [
    "def show_confusion_matrix(y_true, y_pred, classes):\n",
    "    from sklearn.metrics import confusion_matrix\n",
    "    \n",
    "    cm= confusion_matrix(y_true, y_pred,normalize='true')\n",
    "    \n",
    "    plt.figure(figsize=(8,8))\n",
    "    sp=plt.subplot(1,1,1)\n",
    "    ctx=sp.matshow(cm)\n",
    "    plt.xticks(list(range(0,6)),labels=classes)\n",
    "    plt.yticks(range(0,6), labels=classes)\n",
    "    plt.colorbar(ctx)\n",
    "    plt.show()\n"
   ]
  },
  {
   "cell_type": "markdown",
   "id": "a1b61ce2",
   "metadata": {},
   "source": [
    "## Importing Data\n",
    "1. Importing the Tweet Emotion dataset\n",
    "2. Creating train, validation and test sets\n",
    "3. Extracting tweets and labels from the examples"
   ]
  },
  {
   "cell_type": "code",
   "execution_count": 4,
   "id": "700044ad",
   "metadata": {},
   "outputs": [
    {
     "name": "stderr",
     "output_type": "stream",
     "text": [
      "Using custom data configuration default\n"
     ]
    }
   ],
   "source": [
    "dataset=nlp.load_dataset('emotion')"
   ]
  },
  {
   "cell_type": "code",
   "execution_count": 5,
   "id": "4b3fba1a",
   "metadata": {},
   "outputs": [
    {
     "name": "stdout",
     "output_type": "stream",
     "text": [
      "{'train': Dataset(features: {'text': Value(dtype='string', id=None), 'label': Value(dtype='string', id=None)}, num_rows: 16000), 'validation': Dataset(features: {'text': Value(dtype='string', id=None), 'label': Value(dtype='string', id=None)}, num_rows: 2000), 'test': Dataset(features: {'text': Value(dtype='string', id=None), 'label': Value(dtype='string', id=None)}, num_rows: 2000)}\n"
     ]
    }
   ],
   "source": [
    "print(dataset)"
   ]
  },
  {
   "cell_type": "code",
   "execution_count": 6,
   "id": "446b0bd4",
   "metadata": {},
   "outputs": [],
   "source": [
    "train=dataset['train']\n",
    "test=dataset['test']\n",
    "val=dataset['validation']"
   ]
  },
  {
   "cell_type": "code",
   "execution_count": 7,
   "id": "b63191c2",
   "metadata": {},
   "outputs": [],
   "source": [
    "def get_tweet(data):\n",
    "    tweets=[x['text'] for x in data]\n",
    "    labels=[x['label'] for x in data]\n",
    "    return tweets,labels"
   ]
  },
  {
   "cell_type": "code",
   "execution_count": 8,
   "id": "b799a97a",
   "metadata": {},
   "outputs": [],
   "source": [
    "tweets,labels=get_tweet(train)"
   ]
  },
  {
   "cell_type": "code",
   "execution_count": 9,
   "id": "66db7a31",
   "metadata": {},
   "outputs": [
    {
     "data": {
      "text/plain": [
       "('i am ever feeling nostalgic about the fireplace i will know that it is still on the property',\n",
       " 'love')"
      ]
     },
     "execution_count": 9,
     "metadata": {},
     "output_type": "execute_result"
    }
   ],
   "source": [
    "tweets[3],labels[3]"
   ]
  },
  {
   "cell_type": "markdown",
   "id": "7a07cf62",
   "metadata": {},
   "source": [
    "## Tokenizer\n",
    "**Tokenizing the tweets**"
   ]
  },
  {
   "cell_type": "code",
   "execution_count": 10,
   "id": "0083c371",
   "metadata": {},
   "outputs": [],
   "source": [
    "from tensorflow.keras.preprocessing.text import Tokenizer"
   ]
  },
  {
   "cell_type": "markdown",
   "id": "685f65dc",
   "metadata": {},
   "source": [
    "We are go to give to each unique word to unique token."
   ]
  },
  {
   "cell_type": "code",
   "execution_count": 11,
   "id": "4f17625a",
   "metadata": {},
   "outputs": [],
   "source": [
    "tokenizer = Tokenizer(num_words= 10000, oov_token='<UNK>')\n",
    "tokenizer.fit_on_texts(tweets)"
   ]
  },
  {
   "cell_type": "code",
   "execution_count": 12,
   "id": "520ff308",
   "metadata": {},
   "outputs": [
    {
     "data": {
      "text/plain": [
       "[[2, 139, 3, 679]]"
      ]
     },
     "execution_count": 12,
     "metadata": {},
     "output_type": "execute_result"
    }
   ],
   "source": [
    "tokenizer.texts_to_sequences([tweets[0]])"
   ]
  },
  {
   "cell_type": "code",
   "execution_count": 13,
   "id": "9263e553",
   "metadata": {},
   "outputs": [
    {
     "data": {
      "text/plain": [
       "'i didnt feel humiliated'"
      ]
     },
     "execution_count": 13,
     "metadata": {},
     "output_type": "execute_result"
    }
   ],
   "source": [
    "tweets[0]"
   ]
  },
  {
   "cell_type": "markdown",
   "id": "178fe97c",
   "metadata": {},
   "source": [
    "## Padding and Truncating Sequences\n",
    "1. Checking length of the tweets\n",
    "2. Creating padding sequences"
   ]
  },
  {
   "cell_type": "code",
   "execution_count": 14,
   "id": "0cf421f8",
   "metadata": {},
   "outputs": [
    {
     "data": {
      "image/png": "[encoded data removed]",
      "text/plain": [
       "<Figure size 432x288 with 1 Axes>"
      ]
     },
     "metadata": {
      "needs_background": "light"
     },
     "output_type": "display_data"
    }
   ],
   "source": [
    "lengths=[len(t.split(' ')) for t in tweets]\n",
    "# we can ignore the bins\n",
    "plt.hist(lengths,bins=len(set(lengths)))\n",
    "plt.show()"
   ]
  },
  {
   "cell_type": "code",
   "execution_count": 15,
   "id": "a5547156",
   "metadata": {},
   "outputs": [],
   "source": [
    "max_len = 50\n",
    "from tensorflow.keras.preprocessing.sequence import pad_sequences"
   ]
  },
  {
   "cell_type": "code",
   "execution_count": 16,
   "id": "c9853721",
   "metadata": {},
   "outputs": [],
   "source": [
    "def get_sequences(tokenizer,tweets):\n",
    "    sequence = tokenizer.texts_to_sequences(tweets)\n",
    "    padded = pad_sequences(sequence, truncating ='post',padding='post', maxlen=max_len)\n",
    "    return padded"
   ]
  },
  {
   "cell_type": "code",
   "execution_count": 17,
   "id": "0f8cfaf7",
   "metadata": {},
   "outputs": [],
   "source": [
    "padded_train_set=get_sequences(tokenizer,tweets)"
   ]
  },
  {
   "cell_type": "code",
   "execution_count": 18,
   "id": "e12778ec",
   "metadata": {},
   "outputs": [
    {
     "data": {
      "text/plain": [
       "array([  2, 139,   3, 679,   0,   0,   0,   0,   0,   0,   0,   0,   0,\n",
       "         0,   0,   0,   0,   0,   0,   0,   0,   0,   0,   0,   0,   0,\n",
       "         0,   0,   0,   0,   0,   0,   0,   0,   0,   0,   0,   0,   0,\n",
       "         0,   0,   0,   0,   0,   0,   0,   0,   0,   0,   0])"
      ]
     },
     "execution_count": 18,
     "metadata": {},
     "output_type": "execute_result"
    }
   ],
   "source": [
    "padded_train_set[0]"
   ]
  },
  {
   "cell_type": "markdown",
   "id": "a989b20d",
   "metadata": {},
   "source": [
    "## Preparing the Labels\n",
    "1. Creating classes to index and index to classes dictionaries\n",
    "2. Converting the text labes to numerical labels"
   ]
  },
  {
   "cell_type": "code",
   "execution_count": 19,
   "id": "edd1178c",
   "metadata": {},
   "outputs": [
    {
     "name": "stdout",
     "output_type": "stream",
     "text": [
      "{'love', 'surprise', 'sadness', 'fear', 'anger', 'joy'}\n"
     ]
    }
   ],
   "source": [
    "classes=set(labels)\n",
    "print(classes)"
   ]
  },
  {
   "cell_type": "code",
   "execution_count": 20,
   "id": "78a98890",
   "metadata": {},
   "outputs": [
    {
     "data": {
      "image/png": "[encoded data removed]",
      "text/plain": [
       "<Figure size 432x288 with 1 Axes>"
      ]
     },
     "metadata": {
      "needs_background": "light"
     },
     "output_type": "display_data"
    }
   ],
   "source": [
    "plt.hist(labels, bins=11)\n",
    "plt.show()"
   ]
  },
  {
   "cell_type": "code",
   "execution_count": 21,
   "id": "17bac4bc",
   "metadata": {},
   "outputs": [],
   "source": [
    "class_to_index= dict((c,i) for i, c in enumerate(classes))\n",
    "index_to_class= dict((v,k) for k, v in class_to_index.items())"
   ]
  },
  {
   "cell_type": "code",
   "execution_count": 22,
   "id": "c2aa4067",
   "metadata": {},
   "outputs": [
    {
     "data": {
      "text/plain": [
       "{'love': 0, 'surprise': 1, 'sadness': 2, 'fear': 3, 'anger': 4, 'joy': 5}"
      ]
     },
     "execution_count": 22,
     "metadata": {},
     "output_type": "execute_result"
    }
   ],
   "source": [
    "class_to_index"
   ]
  },
  {
   "cell_type": "code",
   "execution_count": 23,
   "id": "674964cd",
   "metadata": {},
   "outputs": [
    {
     "data": {
      "text/plain": [
       "{0: 'love', 1: 'surprise', 2: 'sadness', 3: 'fear', 4: 'anger', 5: 'joy'}"
      ]
     },
     "execution_count": 23,
     "metadata": {},
     "output_type": "execute_result"
    }
   ],
   "source": [
    "index_to_class"
   ]
  },
  {
   "cell_type": "code",
   "execution_count": 24,
   "id": "6959fd75",
   "metadata": {},
   "outputs": [],
   "source": [
    "names_to_ids = lambda labels: np.array([class_to_index.get(x) for x in labels])"
   ]
  },
  {
   "cell_type": "code",
   "execution_count": 25,
   "id": "c74aaa03",
   "metadata": {},
   "outputs": [
    {
     "name": "stdout",
     "output_type": "stream",
     "text": [
      "2\n"
     ]
    }
   ],
   "source": [
    "train_labels = names_to_ids(labels)\n",
    "print(train_labels[0])"
   ]
  },
  {
   "cell_type": "markdown",
   "id": "bfcee765",
   "metadata": {},
   "source": [
    "## Creating the Model\n",
    "1. Creating the model\n",
    "2. Compiling the model"
   ]
  },
  {
   "cell_type": "code",
   "execution_count": 26,
   "id": "281381f7",
   "metadata": {},
   "outputs": [],
   "source": [
    "from keras import layers"
   ]
  },
  {
   "cell_type": "code",
   "execution_count": 27,
   "id": "8a0b9e2a",
   "metadata": {},
   "outputs": [],
   "source": [
    "model= tf.keras.models.Sequential([\n",
    "    layers.Embedding(10000,16, input_length= max_len),\n",
    "    layers.Bidirectional(layers.LSTM(20, return_sequences= True)),\n",
    "    layers.Bidirectional(layers.LSTM(20)),\n",
    "    layers.Dense(6, activation='softmax'),\n",
    "])\n",
    "model.compile(\n",
    "    loss='sparse_categorical_crossentropy',\n",
    "    optimizer='adam',\n",
    "    metrics=['Accuracy']\n",
    ")"
   ]
  },
  {
   "cell_type": "code",
   "execution_count": 28,
   "id": "aced116b",
   "metadata": {},
   "outputs": [
    {
     "name": "stdout",
     "output_type": "stream",
     "text": [
      "Model: \"sequential\"\n",
      "_________________________________________________________________\n",
      " Layer (type)                Output Shape              Param #   \n",
      "=================================================================\n",
      " embedding (Embedding)       (None, 50, 16)            160000    \n",
      "                                                                 \n",
      " bidirectional (Bidirectiona  (None, 50, 40)           5920      \n",
      " l)                                                              \n",
      "                                                                 \n",
      " bidirectional_1 (Bidirectio  (None, 40)               9760      \n",
      " nal)                                                            \n",
      "                                                                 \n",
      " dense (Dense)               (None, 6)                 246       \n",
      "                                                                 \n",
      "=================================================================\n",
      "Total params: 175,926\n",
      "Trainable params: 175,926\n",
      "Non-trainable params: 0\n",
      "_________________________________________________________________\n"
     ]
    }
   ],
   "source": [
    "model.summary()"
   ]
  },
  {
   "cell_type": "markdown",
   "id": "82c3fd85",
   "metadata": {},
   "source": [
    "## Training the Model\n",
    "1. Preparing a validation set\n",
    "2. Training the model"
   ]
  },
  {
   "cell_type": "code",
   "execution_count": 29,
   "id": "6819438b",
   "metadata": {},
   "outputs": [],
   "source": [
    "val_tweets, val_labels= get_tweet(val)\n",
    "val_seq= get_sequences(tokenizer,val_tweets)\n",
    "val_labels= names_to_ids(val_labels)"
   ]
  },
  {
   "cell_type": "code",
   "execution_count": 30,
   "id": "e287161a",
   "metadata": {},
   "outputs": [
    {
     "data": {
      "text/plain": [
       "('im feeling quite sad and sorry for myself but ill snap out of it soon', 2)"
      ]
     },
     "execution_count": 30,
     "metadata": {},
     "output_type": "execute_result"
    }
   ],
   "source": [
    "val_tweets[0], val_labels[0]"
   ]
  },
  {
   "cell_type": "code",
   "execution_count": 31,
   "id": "09170ae6",
   "metadata": {},
   "outputs": [
    {
     "data": {
      "text/plain": [
       "array([ 17,   8, 157, 260,   4, 343,  16,  51,  19, 212,   1,  50,  10,\n",
       "        13, 533,   0,   0,   0,   0,   0,   0,   0,   0,   0,   0,   0,\n",
       "         0,   0,   0,   0,   0,   0,   0,   0,   0,   0,   0,   0,   0,\n",
       "         0,   0,   0,   0,   0,   0,   0,   0,   0,   0,   0])"
      ]
     },
     "execution_count": 31,
     "metadata": {},
     "output_type": "execute_result"
    }
   ],
   "source": [
    "val_seq[0]"
   ]
  },
  {
   "cell_type": "code",
   "execution_count": 32,
   "id": "9cc064a5",
   "metadata": {},
   "outputs": [
    {
     "name": "stdout",
     "output_type": "stream",
     "text": [
      "Epoch 1/20\n",
      "500/500 [==============================] - 30s 43ms/step - loss: 1.3555 - Accuracy: 0.4699 - val_loss: 1.0616 - val_Accuracy: 0.5955\n",
      "Epoch 2/20\n",
      "500/500 [==============================] - 23s 45ms/step - loss: 0.7596 - Accuracy: 0.7096 - val_loss: 0.5796 - val_Accuracy: 0.8035\n",
      "Epoch 3/20\n",
      "500/500 [==============================] - 20s 40ms/step - loss: 0.3498 - Accuracy: 0.8846 - val_loss: 0.4700 - val_Accuracy: 0.8500\n"
     ]
    }
   ],
   "source": [
    "h=model.fit(\n",
    "    padded_train_set,train_labels,\n",
    "    validation_data=(val_seq,val_labels),\n",
    "    epochs=20,\n",
    "    callbacks=[\n",
    "        tf.keras.callbacks.EarlyStopping(monitor='val_Accuracy', patience=2)\n",
    "    ]\n",
    ")"
   ]
  },
  {
   "cell_type": "markdown",
   "id": "6830ae7e",
   "metadata": {},
   "source": [
    "## Evaluation the Model\n",
    "1. Visualizing training history\n",
    "2. Prepraing a test set\n",
    "3. A look at individual predictions on the test set\n",
    "4. A look at all prediction on the test set"
   ]
  },
  {
   "cell_type": "code",
   "execution_count": 33,
   "id": "f191c0ec",
   "metadata": {},
   "outputs": [
    {
     "data": {
      "image/png": "[encoded data removed]",
      "text/plain": [
       "<Figure size 1152x432 with 2 Axes>"
      ]
     },
     "metadata": {
      "needs_background": "light"
     },
     "output_type": "display_data"
    }
   ],
   "source": [
    "show_history(h)"
   ]
  },
  {
   "cell_type": "code",
   "execution_count": 34,
   "id": "328299e2",
   "metadata": {},
   "outputs": [],
   "source": [
    "test_tweets, test_labels= get_tweet(test)\n",
    "test_seq= get_sequences(tokenizer,test_tweets)\n",
    "test_labels=names_to_ids(test_labels)"
   ]
  },
  {
   "cell_type": "code",
   "execution_count": 35,
   "id": "dd4198bf",
   "metadata": {},
   "outputs": [
    {
     "data": {
      "text/plain": [
       "('im feeling rather rotten so im not very ambitious right now', 2)"
      ]
     },
     "execution_count": 35,
     "metadata": {},
     "output_type": "execute_result"
    }
   ],
   "source": [
    "test_tweets[0],test_labels[0]"
   ]
  },
  {
   "cell_type": "code",
   "execution_count": 36,
   "id": "e5370b7c",
   "metadata": {},
   "outputs": [
    {
     "name": "stdout",
     "output_type": "stream",
     "text": [
      "63/63 [==============================] - 1s 17ms/step - loss: 0.4618 - Accuracy: 0.8440\n"
     ]
    }
   ],
   "source": [
    "y=model.evaluate(test_seq,test_labels)"
   ]
  },
  {
   "cell_type": "code",
   "execution_count": 37,
   "id": "b936a491",
   "metadata": {},
   "outputs": [
    {
     "name": "stdout",
     "output_type": "stream",
     "text": [
      "Sentence: i feel appalled right now\n",
      "Emotion: anger\n",
      "Predicted Emotion: anger\n"
     ]
    }
   ],
   "source": [
    "i=random.randint(0,len(test_labels)-1)\n",
    "print('Sentence:', test_tweets[i])\n",
    "print('Emotion:',index_to_class[test_labels[i]])\n",
    "\n",
    "p=model.predict(np.expand_dims(test_seq[i], axis=0))[0]\n",
    "pred_class = index_to_class[np.argmax(p).astype('uint8')]\n",
    "\n",
    "print('Predicted Emotion:', pred_class)"
   ]
  },
  {
   "cell_type": "code",
   "execution_count": 38,
   "id": "edd67c45",
   "metadata": {},
   "outputs": [],
   "source": [
    "preds= model.predict(test_seq)"
   ]
  },
  {
   "cell_type": "code",
   "execution_count": 39,
   "id": "e491f215",
   "metadata": {},
   "outputs": [
    {
     "name": "stdout",
     "output_type": "stream",
     "text": [
      "[1.4922673e-04 1.6403629e-04 1.6009305e-01 3.4767254e-03 8.1830209e-01\n",
      " 1.7814802e-02]\n"
     ]
    },
    {
     "data": {
      "text/plain": [
       "4"
      ]
     },
     "execution_count": 39,
     "metadata": {},
     "output_type": "execute_result"
    }
   ],
   "source": [
    "print(p)\n",
    "np.argmax(p)"
   ]
  },
  {
   "cell_type": "code",
   "execution_count": 40,
   "id": "6e79b070",
   "metadata": {},
   "outputs": [
    {
     "data": {
      "text/plain": [
       "array([2., 2., 2., ..., 5., 5., 3.])"
      ]
     },
     "execution_count": 40,
     "metadata": {},
     "output_type": "execute_result"
    }
   ],
   "source": [
    "y_preds= np.zeros(len(test_labels))\n",
    "\n",
    "j=0;\n",
    "for k in preds:\n",
    "    y_preds[j]=np.argmax(k)\n",
    "    j=j+1;\n",
    "y_preds"
   ]
  },
  {
   "cell_type": "code",
   "execution_count": 41,
   "id": "270d6916",
   "metadata": {},
   "outputs": [
    {
     "data": {
      "image/png": "[encoded data removed]",
      "text/plain": [
       "<Figure size 576x576 with 2 Axes>"
      ]
     },
     "metadata": {
      "needs_background": "light"
     },
     "output_type": "display_data"
    }
   ],
   "source": [
    "show_confusion_matrix(test_labels,y_preds,list(classes))"
   ]
  },
  {
   "cell_type": "code",
   "execution_count": null,
   "id": "c7cadcee",
   "metadata": {},
   "outputs": [],
   "source": []
  }
 ],
 "metadata": {
  "kernelspec": {
   "display_name": "Python 3 (ipykernel)",
   "language": "python",
   "name": "python3"
  },
  "language_info": {
   "codemirror_mode": {
    "name": "ipython",
    "version": 3
   },
   "file_extension": ".py",
   "mimetype": "text/x-python",
   "name": "python",
   "nbconvert_exporter": "python",
   "pygments_lexer": "ipython3",
   "version": "3.10.1"
  }
 },
 "nbformat": 4,
 "nbformat_minor": 5
}
